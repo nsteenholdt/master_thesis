{
 "cells": [
  {
   "cell_type": "markdown",
   "metadata": {},
   "source": [
    "#### Initial Descriptive Stats"
   ]
  },
  {
   "cell_type": "markdown",
   "metadata": {},
   "source": [
    "1. Loading Data\n",
    "\n",
    "Since the processed job ad data are stored in CSV files, first import the necessary libraries and read the data."
   ]
  },
  {
   "cell_type": "code",
   "execution_count": null,
   "metadata": {},
   "outputs": [],
   "source": [
    "import pandas as pd\n",
    "import os\n",
    "\n",
    "# Set the path to your processed CSV files\n",
    "data_folder = \"path/to/your/processed/csv/files\"  # Update this\n",
    "\n",
    "# List all CSV files in the folder\n",
    "csv_files = [f for f in os.listdir(data_folder) if f.endswith('.csv')]\n",
    "\n",
    "# Load all CSV files into a single DataFrame\n",
    "df_list = [pd.read_csv(os.path.join(data_folder, file)) for file in csv_files]\n",
    "df = pd.concat(df_list, ignore_index=True)  # Merge them into one DataFrame\n",
    "\n",
    "# Display first few rows\n",
    "df.head()"
   ]
  },
  {
   "cell_type": "markdown",
   "metadata": {},
   "source": [
    "2. Check Basic Info\n",
    "\n",
    "This will give an overview of columns, data types, and missing values."
   ]
  },
  {
   "cell_type": "code",
   "execution_count": null,
   "metadata": {},
   "outputs": [],
   "source": [
    "df.info()"
   ]
  },
  {
   "cell_type": "markdown",
   "metadata": {},
   "source": [
    "3. Summary Statistics\n",
    "\n",
    "To get a summary of numeric columns:"
   ]
  },
  {
   "cell_type": "code",
   "execution_count": 2,
   "metadata": {},
   "outputs": [
    {
     "ename": "NameError",
     "evalue": "name 'df' is not defined",
     "output_type": "error",
     "traceback": [
      "\u001b[0;31m---------------------------------------------------------------------------\u001b[0m",
      "\u001b[0;31mNameError\u001b[0m                                 Traceback (most recent call last)",
      "\u001b[1;32m/Users/nannasteenholdt/Documents/jobnet/descriptive_stats.ipynb Cell 6\u001b[0m line \u001b[0;36m1\n\u001b[0;32m----> <a href='vscode-notebook-cell:/Users/nannasteenholdt/Documents/jobnet/descriptive_stats.ipynb#W6sZmlsZQ%3D%3D?line=0'>1</a>\u001b[0m df\u001b[39m.\u001b[39mdescribe()\n\u001b[1;32m      <a href='vscode-notebook-cell:/Users/nannasteenholdt/Documents/jobnet/descriptive_stats.ipynb#W6sZmlsZQ%3D%3D?line=2'>3</a>\u001b[0m \u001b[39m# For categorical columns\u001b[39;00m\n",
      "\u001b[0;31mNameError\u001b[0m: name 'df' is not defined"
     ]
    }
   ],
   "source": [
    "df.describe()\n",
    "\n",
    "# For categorical columns\n",
    "\n",
    "df.describe(include=\"object\")\n"
   ]
  },
  {
   "cell_type": "markdown",
   "metadata": {},
   "source": [
    "4. Check Missing Values\n",
    "\n",
    "See if there are missing values in your dataset:"
   ]
  },
  {
   "cell_type": "code",
   "execution_count": null,
   "metadata": {},
   "outputs": [],
   "source": [
    "df.isnull().sum()"
   ]
  },
  {
   "cell_type": "markdown",
   "metadata": {},
   "source": [
    "5. Distribution of Job Titles\n",
    "\n",
    "Check the most common job titles:"
   ]
  },
  {
   "cell_type": "code",
   "execution_count": null,
   "metadata": {},
   "outputs": [],
   "source": [
    "df[\"job_title\"].value_counts().head(20)  # Top 20 job titles"
   ]
  },
  {
   "cell_type": "markdown",
   "metadata": {},
   "source": [
    "6. Plotting Descriptive Statistics\n",
    "\n",
    "Creating visualizations to explore the data."
   ]
  },
  {
   "cell_type": "code",
   "execution_count": null,
   "metadata": {},
   "outputs": [],
   "source": [
    "## Distribution of job titles\n",
    "import matplotlib.pyplot as plt\n",
    "\n",
    "df[\"job_title\"].value_counts().head(10).plot(kind=\"barh\", figsize=(10,5), title=\"Top 10 Job Titles\")\n",
    "plt.xlabel(\"Number of Job Ads\")\n",
    "plt.ylabel(\"Job Title\")\n",
    "plt.show()"
   ]
  },
  {
   "cell_type": "code",
   "execution_count": null,
   "metadata": {},
   "outputs": [],
   "source": [
    "## Job postings over time\n",
    "# Note: If there is a date column (e.g., date_posted), make sure it's in datetime format:\n",
    "\n",
    "df[\"date_posted\"] = pd.to_datetime(df[\"date_posted\"], errors=\"coerce\")\n",
    "df[\"date_posted\"].hist(bins=30, figsize=(10,5))\n",
    "plt.title(\"Distribution of Job Postings Over Time\")\n",
    "plt.xlabel(\"Date\")\n",
    "plt.ylabel(\"Number of Job Ads\")\n",
    "plt.show()"
   ]
  },
  {
   "cell_type": "code",
   "execution_count": null,
   "metadata": {},
   "outputs": [],
   "source": [
    "##Word Cloud of Job Titles\n",
    "\n",
    "from wordcloud import WordCloud\n",
    "\n",
    "text = \" \".join(df[\"job_title\"].dropna())  # Combine job titles into one string\n",
    "wordcloud = WordCloud(width=800, height=400, background_color=\"white\").generate(text)\n",
    "\n",
    "plt.figure(figsize=(10,5))\n",
    "plt.imshow(wordcloud, interpolation=\"bilinear\")\n",
    "plt.axis(\"off\")\n",
    "plt.title(\"Word Cloud of Job Titles\")\n",
    "plt.show()"
   ]
  },
  {
   "cell_type": "markdown",
   "metadata": {},
   "source": [
    "7. Check for Duplicates"
   ]
  },
  {
   "cell_type": "code",
   "execution_count": null,
   "metadata": {},
   "outputs": [],
   "source": [
    "df.duplicated().sum()"
   ]
  },
  {
   "cell_type": "code",
   "execution_count": null,
   "metadata": {},
   "outputs": [],
   "source": [
    "# If needed, remove duplicates\n",
    "df = df.drop_duplicates()"
   ]
  },
  {
   "cell_type": "markdown",
   "metadata": {},
   "source": [
    "8. Correlation Between Numeric Features"
   ]
  },
  {
   "cell_type": "code",
   "execution_count": null,
   "metadata": {},
   "outputs": [],
   "source": [
    "import seaborn as sns\n",
    "\n",
    "plt.figure(figsize=(8,6))\n",
    "sns.heatmap(df.corr(), annot=True, cmap=\"coolwarm\", fmt=\".2f\")\n",
    "plt.title(\"Correlation Matrix of Numeric Features\")\n",
    "plt.show()"
   ]
  },
  {
   "cell_type": "markdown",
   "metadata": {},
   "source": [
    "#### Some more specific descriptive stats"
   ]
  },
  {
   "cell_type": "markdown",
   "metadata": {},
   "source": [
    "1. Load Data & Preprocess\n",
    "\n",
    "Ensure the dataset is loaded correctly, assuming there is a CSV with a column for job descriptions (description) and a column for the year (year)."
   ]
  },
  {
   "cell_type": "code",
   "execution_count": 3,
   "metadata": {},
   "outputs": [
    {
     "name": "stderr",
     "output_type": "stream",
     "text": [
      "Fontconfig warning: ignoring UTF-8: not a valid region tag\n",
      "Matplotlib is building the font cache; this may take a moment.\n"
     ]
    },
    {
     "ename": "ModuleNotFoundError",
     "evalue": "No module named 'seaborn'",
     "output_type": "error",
     "traceback": [
      "\u001b[0;31m---------------------------------------------------------------------------\u001b[0m",
      "\u001b[0;31mModuleNotFoundError\u001b[0m                       Traceback (most recent call last)",
      "\u001b[1;32m/Users/nannasteenholdt/Documents/jobnet/descriptive_stats.ipynb Cell 21\u001b[0m line \u001b[0;36m4\n\u001b[1;32m      <a href='vscode-notebook-cell:/Users/nannasteenholdt/Documents/jobnet/descriptive_stats.ipynb#X30sZmlsZQ%3D%3D?line=1'>2</a>\u001b[0m \u001b[39mimport\u001b[39;00m \u001b[39mnumpy\u001b[39;00m \u001b[39mas\u001b[39;00m \u001b[39mnp\u001b[39;00m\n\u001b[1;32m      <a href='vscode-notebook-cell:/Users/nannasteenholdt/Documents/jobnet/descriptive_stats.ipynb#X30sZmlsZQ%3D%3D?line=2'>3</a>\u001b[0m \u001b[39mimport\u001b[39;00m \u001b[39mmatplotlib\u001b[39;00m\u001b[39m.\u001b[39;00m\u001b[39mpyplot\u001b[39;00m \u001b[39mas\u001b[39;00m \u001b[39mplt\u001b[39;00m\n\u001b[0;32m----> <a href='vscode-notebook-cell:/Users/nannasteenholdt/Documents/jobnet/descriptive_stats.ipynb#X30sZmlsZQ%3D%3D?line=3'>4</a>\u001b[0m \u001b[39mimport\u001b[39;00m \u001b[39mseaborn\u001b[39;00m \u001b[39mas\u001b[39;00m \u001b[39msns\u001b[39;00m\n\u001b[1;32m      <a href='vscode-notebook-cell:/Users/nannasteenholdt/Documents/jobnet/descriptive_stats.ipynb#X30sZmlsZQ%3D%3D?line=4'>5</a>\u001b[0m \u001b[39mimport\u001b[39;00m \u001b[39mnltk\u001b[39;00m\n\u001b[1;32m      <a href='vscode-notebook-cell:/Users/nannasteenholdt/Documents/jobnet/descriptive_stats.ipynb#X30sZmlsZQ%3D%3D?line=5'>6</a>\u001b[0m \u001b[39mfrom\u001b[39;00m \u001b[39mnltk\u001b[39;00m\u001b[39m.\u001b[39;00m\u001b[39mtokenize\u001b[39;00m \u001b[39mimport\u001b[39;00m word_tokenize\n",
      "\u001b[0;31mModuleNotFoundError\u001b[0m: No module named 'seaborn'"
     ]
    }
   ],
   "source": [
    "import pandas as pd\n",
    "import numpy as np\n",
    "import matplotlib.pyplot as plt\n",
    "import seaborn as sns\n",
    "import nltk\n",
    "from nltk.tokenize import word_tokenize\n",
    "from nltk.corpus import stopwords\n",
    "from collections import Counter\n",
    "from wordcloud import WordCloud\n",
    "from textstat import flesch_reading_ease\n",
    "\n",
    "# Download NLTK resources\n",
    "nltk.download('punkt')\n",
    "nltk.download('stopwords')\n",
    "\n",
    "# Load dataset (adjust file path as needed)\n",
    "df = pd.read_csv(\"your_job_ads.csv\")  \n",
    "\n",
    "# Ensure 'year' is a numeric column\n",
    "df['year'] = pd.to_numeric(df['year'], errors='coerce')\n",
    "\n",
    "# Drop rows with missing descriptions\n",
    "df = df.dropna(subset=['description'])"
   ]
  },
  {
   "cell_type": "markdown",
   "metadata": {},
   "source": [
    "2. Word Count Distribution"
   ]
  },
  {
   "cell_type": "code",
   "execution_count": null,
   "metadata": {},
   "outputs": [],
   "source": [
    "# Create word count column\n",
    "df['word_count'] = df['description'].apply(lambda x: len(word_tokenize(x)))\n",
    "\n",
    "# Summary statistics\n",
    "print(df.groupby('year')['word_count'].describe())\n",
    "\n",
    "# Plot histogram\n",
    "plt.figure(figsize=(10, 5))\n",
    "sns.histplot(data=df, x='word_count', hue='year', bins=30, kde=True)\n",
    "plt.title(\"Word Count Distribution by Year\")\n",
    "plt.xlabel(\"Word Count\")\n",
    "plt.ylabel(\"Frequency\")\n",
    "plt.legend(title=\"Year\")\n",
    "plt.show()"
   ]
  },
  {
   "cell_type": "markdown",
   "metadata": {},
   "source": [
    "3. Lexical Diversity\n",
    "\n",
    "Lexical diversity is the ratio of unique words to total words in a text."
   ]
  },
  {
   "cell_type": "code",
   "execution_count": null,
   "metadata": {},
   "outputs": [],
   "source": [
    "def lexical_diversity(text):\n",
    "    words = word_tokenize(text)\n",
    "    return len(set(words)) / len(words) if len(words) > 0 else 0\n",
    "\n",
    "df['lexical_diversity'] = df['description'].apply(lexical_diversity)\n",
    "\n",
    "# Summary statistics\n",
    "print(df.groupby('year')['lexical_diversity'].describe())\n",
    "\n",
    "# Boxplot of lexical diversity\n",
    "plt.figure(figsize=(8, 5))\n",
    "sns.boxplot(data=df, x='year', y='lexical_diversity')\n",
    "plt.title(\"Lexical Diversity by Year\")\n",
    "plt.xlabel(\"Year\")\n",
    "plt.ylabel(\"Lexical Diversity (Unique Words / Total Words)\")\n",
    "plt.show()"
   ]
  },
  {
   "cell_type": "markdown",
   "metadata": {},
   "source": [
    "4. Readability Scores (Flesch-Kincaid)\n",
    "\n",
    "A lower score means harder-to-read text, while a higher score means easier readability."
   ]
  },
  {
   "cell_type": "code",
   "execution_count": null,
   "metadata": {},
   "outputs": [],
   "source": [
    "df['readability'] = df['description'].apply(flesch_reading_ease)\n",
    "\n",
    "# Summary statistics\n",
    "print(df.groupby('year')['readability'].describe())\n",
    "\n",
    "# Boxplot of readability scores\n",
    "plt.figure(figsize=(8, 5))\n",
    "sns.boxplot(data=df, x='year', y='readability')\n",
    "plt.title(\"Readability Scores by Year\")\n",
    "plt.xlabel(\"Year\")\n",
    "plt.ylabel(\"Flesch-Kincaid Readability Score\")\n",
    "plt.show()"
   ]
  },
  {
   "cell_type": "markdown",
   "metadata": {},
   "source": [
    "5. Most Frequent Words"
   ]
  },
  {
   "cell_type": "code",
   "execution_count": null,
   "metadata": {},
   "outputs": [],
   "source": [
    "stop_words = set(stopwords.words('danish'))  # Change to 'english' if needed\n",
    "\n",
    "def get_most_common_words(texts, n=20):\n",
    "    words = []\n",
    "    for text in texts:\n",
    "        words.extend([word.lower() for word in word_tokenize(text) if word.isalnum() and word.lower() not in stop_words])\n",
    "    return Counter(words).most_common(n)\n",
    "\n",
    "# Get top words for each year\n",
    "for year in df['year'].unique():\n",
    "    print(f\"\\nMost common words in {year}:\")\n",
    "    print(get_most_common_words(df[df['year'] == year]['description']))\n",
    "\n",
    "# Word cloud for recent job ads (2024/2025)\n",
    "recent_texts = ' '.join(df[df['year'] >= 2024]['description'])\n",
    "wordcloud = WordCloud(stopwords=stop_words, background_color='white', width=800, height=400).generate(recent_texts)\n",
    "\n",
    "plt.figure(figsize=(10, 5))\n",
    "plt.imshow(wordcloud, interpolation='bilinear')\n",
    "plt.axis(\"off\")\n",
    "plt.title(\"Word Cloud for Recent Job Ads (2024/2025)\")\n",
    "plt.show()"
   ]
  }
 ],
 "metadata": {
  "kernelspec": {
   "display_name": "Python 3",
   "language": "python",
   "name": "python3"
  },
  "language_info": {
   "codemirror_mode": {
    "name": "ipython",
    "version": 3
   },
   "file_extension": ".py",
   "mimetype": "text/x-python",
   "name": "python",
   "nbconvert_exporter": "python",
   "pygments_lexer": "ipython3",
   "version": "3.12.0"
  }
 },
 "nbformat": 4,
 "nbformat_minor": 2
}
